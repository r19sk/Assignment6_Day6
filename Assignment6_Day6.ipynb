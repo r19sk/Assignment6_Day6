{
  "nbformat": 4,
  "nbformat_minor": 0,
  "metadata": {
    "colab": {
      "name": "Assignment6_Day6.ipynb",
      "provenance": []
    },
    "kernelspec": {
      "name": "python3",
      "display_name": "Python 3"
    }
  },
  "cells": [
    {
      "cell_type": "code",
      "metadata": {
        "id": "Lr2ZQVRjCArg",
        "colab_type": "code",
        "colab": {
          "base_uri": "https://localhost:8080/",
          "height": 34
        },
        "outputId": "2847a185-77f3-419e-9d5a-246758aa6947"
      },
      "source": [
        "#Convert to dictionary in one line code using line comprehension(without zip method)\n",
        "list1=[1,2,3,4,5,7,8]\n",
        "list2=[\"a\", \"b\", \"c\", \"d\", \"e\"]\n",
        "dict1={}\n",
        "for key in list1:\n",
        "  for value in list2:\n",
        "    dict1[key]=value\n",
        "    list2.remove(value)\n",
        "    break\n",
        "print((dict1))"
      ],
      "execution_count": 2,
      "outputs": [
        {
          "output_type": "stream",
          "text": [
            "{1: 'a', 2: 'b', 3: 'c', 4: 'd', 5: 'e'}\n"
          ],
          "name": "stdout"
        }
      ]
    }
  ]
}